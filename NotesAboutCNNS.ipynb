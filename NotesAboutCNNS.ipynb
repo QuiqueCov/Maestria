{
  "nbformat": 4,
  "nbformat_minor": 0,
  "metadata": {
    "colab": {
      "provenance": [],
      "authorship_tag": "ABX9TyNYc19gUgPzcaLPEXxZbTH1",
      "include_colab_link": true
    },
    "kernelspec": {
      "name": "python3",
      "display_name": "Python 3"
    },
    "language_info": {
      "name": "python"
    }
  },
  "cells": [
    {
      "cell_type": "markdown",
      "metadata": {
        "id": "view-in-github",
        "colab_type": "text"
      },
      "source": [
        "<a href=\"https://colab.research.google.com/github/QuiqueCov/Maestria/blob/main/NotesAboutCNNS.ipynb\" target=\"_parent\"><img src=\"https://colab.research.google.com/assets/colab-badge.svg\" alt=\"Open In Colab\"/></a>"
      ]
    },
    {
      "cell_type": "code",
      "source": [
        "'''\n",
        "CNN using Functional Api\n",
        "# we can have 2D, 1D, 3D CONVOLUTIONS\n",
        "# A VIDEO IS A 3D\n",
        "# A TIME VARYING SIGNAL IS 1D\n",
        "i = Input(shape= x_train[0].shape)\n",
        "x = Conv2D(32, (3,3), strides = 2, activation='relu') (i)\n",
        "x = Conv2D(64, (3,3), strides = 2, activation='relu') (x)\n",
        "x = Conv2D(128, (3,3), strides = 2, activation='relu') (x)\n",
        "\n",
        "x = Flatten()(x)\n",
        "x = Dense(512, activation='relu')(x)\n",
        "x = Dense(K, activation='softmax')(x)\n",
        "\n",
        "model = Model(i,x)\n",
        "'''\n",
        "# x = Conv2D(32, (3,3), strides = 2, activation='relu') (i)\n",
        "# ARGUMENTS\n",
        "# OUTPUT FEATURES MAPS\n",
        "# FILTER DIMENSIONS\n",
        "# STRIDE, SPEED OF THE FILTER AS WE PASS ALONG THE IMAGE\n",
        "# ACTIVATION\n",
        "#PADDING, VALID(DEFAULT), SAME, FULL"
      ],
      "metadata": {
        "id": "61gA0Z3VNXzz"
      },
      "execution_count": null,
      "outputs": []
    },
    {
      "cell_type": "code",
      "execution_count": null,
      "metadata": {
        "id": "qJZ9AGWOIzyX"
      },
      "outputs": [],
      "source": [
        "# fashion nmist\n",
        "\n",
        "tf.keras.datasets.fashion_mnist.load_data()\n",
        "# CIFAR-10\n",
        "tf.keras.datasets.cifar10.load_data()"
      ]
    },
    {
      "cell_type": "code",
      "source": [
        "# dividing in test and train\n",
        "(x_train, y_train), (x_test, y_test) = load_data()"
      ],
      "metadata": {
        "id": "qDpjcRC4Ju0O"
      },
      "execution_count": null,
      "outputs": []
    },
    {
      "cell_type": "code",
      "source": [
        "model = Sequential([\n",
        "    i = Input(shape=(D,))\n",
        "    x = Dense(128, activation = 'relu')(i)\n",
        "    x = Dense(K, activation = 'softmax')(x)\n",
        "\n",
        "    model = Model(i, x)\n",
        "])\n",
        "\n",
        "model.fit()\n",
        "model.predict()"
      ],
      "metadata": {
        "id": "fQP90tXEKRHf"
      },
      "execution_count": null,
      "outputs": []
    },
    {
      "cell_type": "code",
      "source": [],
      "metadata": {
        "id": "1UY3cABwNWFu"
      },
      "execution_count": null,
      "outputs": []
    }
  ]
}