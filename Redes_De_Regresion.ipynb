{
  "cells": [
    {
      "cell_type": "markdown",
      "metadata": {
        "id": "view-in-github",
        "colab_type": "text"
      },
      "source": [
        "<a href=\"https://colab.research.google.com/github/QuiqueCov/Maestria/blob/main/Redes_De_Regresion.ipynb\" target=\"_parent\"><img src=\"https://colab.research.google.com/assets/colab-badge.svg\" alt=\"Open In Colab\"/></a>"
      ]
    },
    {
      "cell_type": "markdown",
      "metadata": {
        "id": "dinnZ-Ta0G1n"
      },
      "source": [
        "## Problema 1: Redes de regresión"
      ]
    },
    {
      "cell_type": "markdown",
      "metadata": {
        "id": "7AP2zOZZ0G1u"
      },
      "source": [
        "### 1.- Importar librerias"
      ]
    },
    {
      "cell_type": "code",
      "execution_count": null,
      "metadata": {
        "id": "KiQ24aSm0G1v"
      },
      "outputs": [],
      "source": [
        "import numpy as np\n",
        "import matplotlib.pyplot as plt\n",
        "import scipy.io"
      ]
    },
    {
      "cell_type": "code",
      "source": [
        "#Descargar datos\n",
        "!gdown --folder https://drive.google.com/drive/folders/1eaNuRHvBzc0MO9cKpZvXujoIFuxfxijD"
      ],
      "metadata": {
        "id": "sspRhRR80LpY"
      },
      "execution_count": null,
      "outputs": []
    },
    {
      "cell_type": "markdown",
      "metadata": {
        "id": "M8EJxe7N0G1w"
      },
      "source": [
        "### 2.- Procesamiento de los datos"
      ]
    },
    {
      "cell_type": "code",
      "execution_count": null,
      "metadata": {
        "id": "WHRXeBoc0G1x"
      },
      "outputs": [],
      "source": [
        "#Cargar datos\n",
        "data = np.load('datos/datos_p2.npy')\n",
        "\n",
        "#Extraer valores\n",
        "x = data[:, 0:1]\n",
        "y = data[:, 1:2]\n",
        "\n",
        "#Normalizar valores\n",
        "pass\n",
        "\n",
        "#Imprimir valores\n",
        "plt.figure(1, figsize=(5,3))\n",
        "plt.title(\"Comportamiento de los datos\")\n",
        "plt.xlabel(\"Eje X\")\n",
        "plt.ylabel(\"Eje Y\")\n",
        "plt.plot(x, y, '*', color='red');"
      ]
    },
    {
      "cell_type": "code",
      "source": [],
      "metadata": {
        "id": "4qGuvayX6QzC"
      },
      "execution_count": null,
      "outputs": []
    },
    {
      "cell_type": "markdown",
      "metadata": {
        "id": "MkrmA_wl0G1x"
      },
      "source": [
        "### 3.- Definición del modelo"
      ]
    },
    {
      "cell_type": "code",
      "execution_count": null,
      "metadata": {
        "id": "JMxRlwCh0G1y"
      },
      "outputs": [],
      "source": [
        "#Funcion sigmoide\n",
        "def sigmoid(x):\n",
        "\n",
        "  pass\n",
        "\n",
        "#Error medio cuadratico\n",
        "def emc(ym, yd):\n",
        "\n",
        "  pass"
      ]
    },
    {
      "cell_type": "code",
      "execution_count": null,
      "metadata": {
        "id": "sUUvFOJB0G1z"
      },
      "outputs": [],
      "source": [
        "#Crear clase representativa de un perceptron multicapa\n",
        "class mlp:\n",
        "\n",
        "    #Crear constructor\n",
        "    def __init__(self, ne, no, ns, d):\n",
        "\n",
        "        pass\n",
        "\n",
        "    #Funcion forward (Paso hacia adelante)\n",
        "    def forward(self, x):\n",
        "\n",
        "        pass\n",
        "\n",
        "    #Funcion de entrenamiento\n",
        "    def train(self, x, y, Lr, epoch):\n",
        "\n",
        "        #Inicializar error de entrenamiento\n",
        "        self.e = np.zeros(epoch)\n",
        "\n",
        "        #Lazo de epocas\n",
        "        for i in range(epoch):\n",
        "\n",
        "            #Lazo de datos\n",
        "            for j in range(x.shape[0]):\n",
        "\n",
        "              #Tomar entrada i del vector\n",
        "              x_in = np.reshape(x[j, :], (self.d, 1))\n",
        "\n",
        "              #Capa de entrada\n",
        "              h1 = np.dot(self.w1, x_in) + self.b1\n",
        "              y1 = sigmoid(h1)\n",
        "\n",
        "              #Capa oculta\n",
        "              h2 = np.dot(self.w2, y1) + self.b2\n",
        "              y2 = sigmoid(h2)\n",
        "\n",
        "              #Capa de salida\n",
        "              h3 = np.dot(self.w3, y2) + self.b3\n",
        "              ym = sigmoid(h3)\n",
        "\n",
        "              #Calcular error de la iteracion\n",
        "              self.e[i] = self.e[i] + emc(ym, y[j])\n",
        "              #print(self.e[i])\n",
        "\n",
        "              #a) Calcular gradientes\n",
        "\n",
        "              #Funcion de error\n",
        "              de_ym = ym - y[j] #(ns, 1)\n",
        "\n",
        "              #Capa de salida\n",
        "              dym_h3 = sigmoid(h3)*(1 - sigmoid(h3)) #(ns, 1)\n",
        "              dh3_w3 = y2 #(no, 1)\n",
        "              dh3_y2 = self.w3 #(ns, no)\n",
        "              dh3_b3 = 1 #(1)\n",
        "\n",
        "              #Capa oculta\n",
        "              dy2_h2 = sigmoid(h2)*(1 - sigmoid(h2)) #(no, 1)\n",
        "              dh2_w2 = y1 #(ne, 1)\n",
        "              dh2_b2 = 1.0  #(1)\n",
        "              dh2_y1 = self.w2 #(no, ne)\n",
        "\n",
        "              #Capa de entrada\n",
        "              dy1_h1 = sigmoid(h1)*(1 - sigmoid(h1)) #(ne, 1)\n",
        "              dh1_w1 = x_in #(d,1)\n",
        "              dh1_b1 = 1.0 #(1)\n",
        "\n",
        "              #b) Construir gradientes\n",
        "\n",
        "              #Capa de salida\n",
        "              de_w3 = np.dot(de_ym*dym_h3, np.transpose(dh3_w3))  #((ns,1)*(ns, 1))x(1, no) = (ns, no)\n",
        "              de_b3 = de_ym*dym_h3*dh3_b3 #(ns,1)*(ns,1)*(1)\n",
        "              de_y2 = np.transpose(np.dot(np.transpose(de_ym*dym_h3), dh3_y2)) #(ns,1)*(ns, no) = (no, 1)\n",
        "\n",
        "              #Capa oculta\n",
        "              de_w2 = np.dot(de_y2*dy2_h2, np.transpose(dh2_w2)) #(no,1)*(no,1)*(ne,1) = (no, ne)\n",
        "              de_b2 = de_y2*dy2_h2*dh2_b2 #(no,1)*(no,1)*(1) = (no,1)\n",
        "              de_y1 = np.transpose(np.dot(np.transpose(de_y2*dy2_h2), dh2_y1)) #(no,1)*(no, ne) = (ne, 1)\n",
        "\n",
        "              #Capa de entrada\n",
        "              de_w1 = np.dot(de_y1*dy1_h1, np.transpose(dh1_w1))  #(ne,1)*(ne,1)*(d, 1) = (ne, d)\n",
        "              de_b1 = de_y1*dy1_h1*dh1_b1 #(ne, 1)*(ne, 1)*(1)\n",
        "\n",
        "              #c) Actualizar pesos\n",
        "              self.w3 = self.w3 - Lr*de_w3\n",
        "              self.b3 = self.b3 - Lr*de_b3\n",
        "              self.w2 = self.w2 - Lr*de_w2\n",
        "              self.b2 = self.b2 - Lr*de_b2\n",
        "              self.w1 = self.w1 - Lr*de_w1\n",
        "              self.b1 = self.b1 - Lr*de_b1\n",
        "\n",
        "            #Promediar error (SANGRIA)\n",
        "            self.e[i] = self.e[i]/x.shape[0]\n",
        "\n"
      ]
    },
    {
      "cell_type": "markdown",
      "metadata": {
        "id": "a2fPEPvm0G1z"
      },
      "source": [
        "### 4.- Entrenamiento del modelo"
      ]
    },
    {
      "cell_type": "code",
      "execution_count": null,
      "metadata": {
        "id": "j5lPHPPI0G10"
      },
      "outputs": [],
      "source": [
        "#Crear instancia del modelo\n"
      ]
    },
    {
      "cell_type": "code",
      "source": [
        "#Entrenar modelo\n",
        "\n",
        "\n",
        "#Graficar curva de error\n",
        "plt.figure(1)\n",
        "plt.plot(tec.e)"
      ],
      "metadata": {
        "id": "uqrpLguvJKaH"
      },
      "execution_count": null,
      "outputs": []
    },
    {
      "cell_type": "markdown",
      "metadata": {
        "id": "k56H6-tv0G10"
      },
      "source": [
        "### 5.- Evaluación del modelo"
      ]
    },
    {
      "cell_type": "code",
      "execution_count": null,
      "metadata": {
        "id": "rBLbJLCg0G10"
      },
      "outputs": [],
      "source": [
        "#Inicializar salida del modelo\n",
        "ym = np.zeros(y.shape)\n",
        "e = 0.0\n",
        "\n",
        "#Someter red neuronal a datos de entrada\n",
        "for i in range(x.shape[0]):\n",
        "\n",
        "  ym[i] = tec.forward(x[i, :].reshape(1,1))\n",
        "  e = e + emc(ym[i], y[i])\n",
        "\n",
        "#Imprimir error\n",
        "print(\"Error promedio: \" + str(e/x.shape[0]))\n",
        "\n",
        "#Graficar resultados\n",
        "plt.plot(x, y, '*', color='red')\n",
        "plt.plot(x, ym, '*', color='blue')\n",
        "plt.show()"
      ]
    },
    {
      "cell_type": "code",
      "execution_count": null,
      "metadata": {
        "id": "0lnmgXuy0G11"
      },
      "outputs": [],
      "source": []
    }
  ],
  "metadata": {
    "kernelspec": {
      "display_name": "Python 3 (ipykernel)",
      "language": "python",
      "name": "python3"
    },
    "language_info": {
      "codemirror_mode": {
        "name": "ipython",
        "version": 3
      },
      "file_extension": ".py",
      "mimetype": "text/x-python",
      "name": "python",
      "nbconvert_exporter": "python",
      "pygments_lexer": "ipython3",
      "version": "3.7.2"
    },
    "colab": {
      "provenance": [],
      "include_colab_link": true
    }
  },
  "nbformat": 4,
  "nbformat_minor": 0
}