{
 "cells": [
  {
   "cell_type": "markdown",
   "id": "42efac3c",
   "metadata": {},
   "source": [
    "# 3 A2: Aprendizaje maquina\n",
    "Vision General de la Tarea:\n",
    "\n",
    "El objetivo de esta tarea es diseñar y desarrollar un sistema de clasificacion de imagenes Utilizando algortimos de Machine Learning. Debes seleccionar un conjunto de datos de imagenes y aplicar diferentes tecnicas de clasificaccion para entrenar y evaluar modelos que puedan predecir categorias correctas de imagenes.\n",
    "\n",
    "## Algoritmos a probar:\n",
    "- Regresion Logistica \n",
    "- K-Nearest Neighbors \n",
    "- Support Vector Machine \n",
    "- Arboles de Decision"
   ]
  },
  {
   "cell_type": "code",
   "execution_count": 1,
   "id": "2996d858",
   "metadata": {},
   "outputs": [
    {
     "name": "stdout",
     "output_type": "stream",
     "text": [
      " El volumen de la unidad C es Windows-SSD\n",
      " El n£mero de serie del volumen es: BC4F-3009\n",
      "\n",
      " Directorio de C:\\Users\\oso_e\\maestria\\Maestria\\ArtificialIntelligence\\fruitsclassificator\n",
      "\n",
      "14/11/2024  01:12 p. m.    <DIR>          .\n",
      "14/11/2024  01:12 p. m.    <DIR>          ..\n",
      "14/11/2024  01:12 p. m.    <DIR>          .ipynb_checkpoints\n",
      "14/11/2024  01:11 p. m.    <DIR>          fruits\n",
      "14/11/2024  01:11 p. m.             1,269 FruitsClassificator.ipynb\n",
      "               1 archivos          1,269 bytes\n",
      "               4 dirs  323,223,969,792 bytes libres\n"
     ]
    }
   ],
   "source": [
    "ls"
   ]
  }
 ],
 "metadata": {
  "kernelspec": {
   "display_name": "Python 3 (ipykernel)",
   "language": "python",
   "name": "python3"
  },
  "language_info": {
   "codemirror_mode": {
    "name": "ipython",
    "version": 3
   },
   "file_extension": ".py",
   "mimetype": "text/x-python",
   "name": "python",
   "nbconvert_exporter": "python",
   "pygments_lexer": "ipython3",
   "version": "3.9.13"
  }
 },
 "nbformat": 4,
 "nbformat_minor": 5
}
