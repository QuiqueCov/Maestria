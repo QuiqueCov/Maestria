{
 "cells": [
  {
   "cell_type": "markdown",
   "id": "42efac3c",
   "metadata": {},
   "source": [
    "# 3 A2: Aprendizaje maquina\n",
    "Vision General de la Tarea:\n",
    "\n",
    "El objetivo de esta tarea es diseñar y desarrollar un sistema de clasificacion de imagenes Utilizando algortimos de Machine Learning. Debes seleccionar un conjunto de datos de imagenes y aplicar diferentes tecnicas de clasificaccion para entrenar y evaluar modelos que puedan predecir categorias correctas de imagenes.\n",
    "\n",
    "## Algoritmos a probar:\n",
    "- Regresion Logistica \n",
    "- K-Nearest Neighbors \n",
    "- Support Vector Machine \n",
    "- Arboles de Decision"
   ]
  },
  {
   "cell_type": "code",
   "execution_count": 3,
   "id": "2996d858",
   "metadata": {},
   "outputs": [],
   "source": [
    "from fruits import *"
   ]
  },
  {
   "cell_type": "code",
   "execution_count": 6,
   "id": "49c4382e",
   "metadata": {},
   "outputs": [],
   "source": [
    "import fruits as fruit\n",
    "from fruits.MY_data.test import apple"
   ]
  }
 ],
 "metadata": {
  "kernelspec": {
   "display_name": "Python 3 (ipykernel)",
   "language": "python",
   "name": "python3"
  },
  "language_info": {
   "codemirror_mode": {
    "name": "ipython",
    "version": 3
   },
   "file_extension": ".py",
   "mimetype": "text/x-python",
   "name": "python",
   "nbconvert_exporter": "python",
   "pygments_lexer": "ipython3",
   "version": "3.9.13"
  }
 },
 "nbformat": 4,
 "nbformat_minor": 5
}
