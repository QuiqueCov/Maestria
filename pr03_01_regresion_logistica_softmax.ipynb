{
  "cells": [
    {
      "cell_type": "markdown",
      "metadata": {
        "id": "view-in-github",
        "colab_type": "text"
      },
      "source": [
        "<a href=\"https://colab.research.google.com/github/QuiqueCov/Maestria/blob/dev%2Fquiquex%2Fpatternrecognition/pr03_01_regresion_logistica_softmax.ipynb\" target=\"_parent\"><img src=\"https://colab.research.google.com/assets/colab-badge.svg\" alt=\"Open In Colab\"/></a>"
      ]
    },
    {
      "cell_type": "markdown",
      "metadata": {
        "id": "SdiZmETY0eEY"
      },
      "source": [
        "# Reconocimiento de patrones\n",
        "## Dr. Carlos Villaseñor\n",
        "### Regresión logística y SoftMax"
      ]
    },
    {
      "cell_type": "markdown",
      "source": [
        "# La función logística"
      ],
      "metadata": {
        "id": "C88u0vv92gbO"
      }
    },
    {
      "cell_type": "markdown",
      "source": [
        "1. Importamos paquetería"
      ],
      "metadata": {
        "id": "TonbWEbW0qFJ"
      }
    },
    {
      "cell_type": "code",
      "execution_count": 1,
      "metadata": {
        "id": "DODKJeMJ0eEb"
      },
      "outputs": [],
      "source": [
        "import numpy as np\n",
        "import matplotlib.pyplot as plt"
      ]
    },
    {
      "cell_type": "markdown",
      "source": [
        "2. Esta es la función logística"
      ],
      "metadata": {
        "id": "Gy8r-dgu0tqP"
      }
    },
    {
      "cell_type": "code",
      "execution_count": 2,
      "metadata": {
        "scrolled": true,
        "id": "aiOlg3TE0eEc",
        "colab": {
          "base_uri": "https://localhost:8080/",
          "height": 449
        },
        "outputId": "ecd904a8-bd8a-4c8c-e917-66090ff5d122"
      },
      "outputs": [
        {
          "output_type": "display_data",
          "data": {
            "text/plain": [
              "<Figure size 640x480 with 1 Axes>"
            ],
            "image/png": "[encoded data removed]"
          },
          "metadata": {}
        }
      ],
      "source": [
        "x = np.linspace(-10, 10, 100)\n",
        "sig = 1 / (1 + np.exp(-x))\n",
        "plt.plot([-10, 10], [0, 0], \"k-\")\n",
        "plt.plot([-10, 10], [0.5, 0.5], \"k:\")\n",
        "plt.plot([-10, 10], [1, 1], \"k:\")\n",
        "plt.plot([0, 0], [-1.1, 1.1], \"k-\")\n",
        "plt.plot(x, sig, \"b-\", linewidth=2, label=r\"$\\sigma(x) = \\frac{1}{1 + e^{-x}}$\")\n",
        "plt.xlabel(\"x\")\n",
        "plt.legend(loc=\"upper left\", fontsize=10)\n",
        "plt.axis([-10, 10, -0.1, 1.1])\n",
        "plt.show()"
      ]
    },
    {
      "cell_type": "markdown",
      "source": [
        "# Importar datos"
      ],
      "metadata": {
        "id": "PTKLqJns1Bo0"
      }
    },
    {
      "cell_type": "code",
      "execution_count": 3,
      "metadata": {
        "id": "JejE_N7E0eEd"
      },
      "outputs": [],
      "source": [
        "# Importar paquetes\n",
        "import matplotlib.pyplot as plt\n",
        "import numpy as np\n",
        "import pandas as pd\n",
        "from sklearn.linear_model import LogisticRegression\n",
        "from sklearn.model_selection import train_test_split"
      ]
    },
    {
      "cell_type": "markdown",
      "source": [
        "# Lectura de datos"
      ],
      "metadata": {
        "id": "5IDJf0sz2YLT"
      }
    },
    {
      "cell_type": "code",
      "source": [
        "!wget 'https://raw.githubusercontent.com/Dr-Carlos-Villasenor/PatternRecognition/main/Dataset/diabetes.csv'"
      ],
      "metadata": {
        "id": "i1JaZ78_1QKB",
        "colab": {
          "base_uri": "https://localhost:8080/"
        },
        "outputId": "0a915899-3062-4d31-f673-eaa5422dfeac"
      },
      "execution_count": 4,
      "outputs": [
        {
          "output_type": "stream",
          "name": "stdout",
          "text": [
            "--2025-02-03 00:15:52--  https://raw.githubusercontent.com/Dr-Carlos-Villasenor/PatternRecognition/main/Dataset/diabetes.csv\n",
            "Resolving raw.githubusercontent.com (raw.githubusercontent.com)... 185.199.110.133, 185.199.111.133, 185.199.108.133, ...\n",
            "Connecting to raw.githubusercontent.com (raw.githubusercontent.com)|185.199.110.133|:443... connected.\n",
            "HTTP request sent, awaiting response... 200 OK\n",
            "Length: 23873 (23K) [text/plain]\n",
            "Saving to: ‘diabetes.csv’\n",
            "\n",
            "diabetes.csv        100%[===================>]  23.31K  --.-KB/s    in 0.004s  \n",
            "\n",
            "2025-02-03 00:15:53 (5.74 MB/s) - ‘diabetes.csv’ saved [23873/23873]\n",
            "\n"
          ]
        }
      ]
    },
    {
      "cell_type": "code",
      "execution_count": 5,
      "metadata": {
        "id": "tVmLEsSD0eEe",
        "colab": {
          "base_uri": "https://localhost:8080/"
        },
        "outputId": "d25cb850-7875-4b0f-b988-b5445f0d394e"
      },
      "outputs": [
        {
          "output_type": "stream",
          "name": "stdout",
          "text": [
            "<class 'pandas.core.frame.DataFrame'>\n",
            "RangeIndex: 768 entries, 0 to 767\n",
            "Data columns (total 9 columns):\n",
            " #   Column                    Non-Null Count  Dtype  \n",
            "---  ------                    --------------  -----  \n",
            " 0   Pregnancies               768 non-null    int64  \n",
            " 1   Glucose                   768 non-null    int64  \n",
            " 2   BloodPressure             768 non-null    int64  \n",
            " 3   SkinThickness             768 non-null    int64  \n",
            " 4   Insulin                   768 non-null    int64  \n",
            " 5   BMI                       768 non-null    float64\n",
            " 6   DiabetesPedigreeFunction  768 non-null    float64\n",
            " 7   Age                       768 non-null    int64  \n",
            " 8   Outcome                   768 non-null    int64  \n",
            "dtypes: float64(2), int64(7)\n",
            "memory usage: 54.1 KB\n",
            "None\n"
          ]
        }
      ],
      "source": [
        "# Leer datos\n",
        "data = pd.read_csv('diabetes.csv')\n",
        "print(data.info())"
      ]
    },
    {
      "cell_type": "markdown",
      "source": [
        "# Exploración de datos"
      ],
      "metadata": {
        "id": "VYAl9HEZ2Vvx"
      }
    },
    {
      "cell_type": "code",
      "execution_count": null,
      "metadata": {
        "id": "LG4otvDl0eEf"
      },
      "outputs": [],
      "source": [
        "no_show = pd.plotting.scatter_matrix(data)"
      ]
    },
    {
      "cell_type": "code",
      "execution_count": null,
      "metadata": {
        "id": "Fp_HUfLP0eEf"
      },
      "outputs": [],
      "source": [
        "corr = data.corr()\n",
        "print(corr)\n",
        "import seaborn as sns\n",
        "sns.heatmap(corr,\n",
        "         xticklabels=corr.columns,\n",
        "         yticklabels=corr.columns)"
      ]
    },
    {
      "cell_type": "markdown",
      "source": [
        "# Regresión logística"
      ],
      "metadata": {
        "id": "BfgJ7LVB2Q8b"
      }
    },
    {
      "cell_type": "code",
      "execution_count": null,
      "metadata": {
        "id": "ecRciOJM0eEg"
      },
      "outputs": [],
      "source": [
        "## Primer método\n",
        "\n",
        "# Eleguir variables\n",
        "x = np.asanyarray(data[['Glucose']])\n",
        "y = np.asanyarray(data[['Outcome']]).ravel()\n",
        "\n",
        "# Dividir Train/Test\n",
        "xtrain, xtest, ytrain, ytest = train_test_split(x,y)\n",
        "\n",
        "# Crear modelo y entrenar\n",
        "logit=LogisticRegression(solver='lbfgs')\n",
        "logit.fit(xtrain,ytrain)\n",
        "\n",
        "# Calcular Score\n",
        "print('Train: ', logit.score(xtrain,ytrain))\n",
        "print('Test: ', logit.score(xtest,ytest))\n",
        "\n",
        "g = np.linspace(0,200,50).reshape(-1,1)\n",
        "prediction = logit.predict_proba(g)\n",
        "plt.plot(xtrain,ytrain,'.b')\n",
        "plt.plot(xtest,ytest,'.r')\n",
        "plt.xlabel('Glucose')\n",
        "plt.ylabel('Outcome')\n",
        "plt.plot(g, prediction)"
      ]
    },
    {
      "cell_type": "code",
      "execution_count": null,
      "metadata": {
        "id": "xteRH_l70eEh"
      },
      "outputs": [],
      "source": [
        "## Segundo método\n",
        "\n",
        "# Eleguir variables\n",
        "x = np.asanyarray(data.drop(columns=['Outcome']))\n",
        "y = np.asanyarray(data[['Outcome']]).ravel()\n",
        "\n",
        "# Dividir Train/Test\n",
        "xtrain, xtest, ytrain, ytest = train_test_split(x,y)\n",
        "\n",
        "# Importar nuevos paquetes\n",
        "from sklearn.preprocessing import StandardScaler\n",
        "from sklearn.pipeline import Pipeline\n",
        "\n",
        "# Crear modelo y entrenar\n",
        "model = Pipeline([\n",
        "    ('scaler', StandardScaler()),\n",
        "    ('logit', LogisticRegression(solver='lbfgs')) ])\n",
        "\n",
        "# Crear modelo y entrenar\n",
        "model.fit(xtrain,ytrain)\n",
        "\n",
        "# Calcular Score\n",
        "print('Train: ', model.score(xtrain,ytrain))\n",
        "print('Test: ', model.score(xtest,ytest))"
      ]
    },
    {
      "cell_type": "markdown",
      "source": [
        "# Explicación de variables"
      ],
      "metadata": {
        "id": "fVu7AfSW1eEp"
      }
    },
    {
      "cell_type": "code",
      "execution_count": null,
      "metadata": {
        "id": "4qsXnZhF0eEh"
      },
      "outputs": [],
      "source": [
        "coeff = np.abs(model.named_steps['logit'].coef_[0])\n",
        "coeff = coeff / np.sum(coeff)\n",
        "labels = list(data.drop(columns=['Outcome']).columns)\n",
        "features = pd.DataFrame()\n",
        "features['Features'] = labels\n",
        "features['importance'] = coeff\n",
        "features.sort_values(by=['importance'], ascending=True, inplace=True)\n",
        "features.set_index('Features', inplace=True)\n",
        "features.importance.plot(kind='barh')\n",
        "plt.xlabel('Importance')\n",
        "print(features)"
      ]
    },
    {
      "cell_type": "markdown",
      "source": [
        "# Regresión polinomial logística"
      ],
      "metadata": {
        "id": "MJzKEI-S2IbP"
      }
    },
    {
      "cell_type": "code",
      "execution_count": null,
      "metadata": {
        "id": "AvG39pnf0eEi"
      },
      "outputs": [],
      "source": [
        "## Tercer método\n",
        "\n",
        "# Eleguir variables\n",
        "x = np.asanyarray(data.drop(columns=['Outcome']))\n",
        "y = np.asanyarray(data[['Outcome']]).ravel()\n",
        "\n",
        "# Dividir Train/Test\n",
        "xtrain, xtest, ytrain, ytest = train_test_split(x,y)\n",
        "\n",
        "# Importar nuevos paquetes\n",
        "from sklearn.preprocessing import StandardScaler\n",
        "from sklearn.preprocessing import PolynomialFeatures\n",
        "from sklearn.pipeline import Pipeline\n",
        "\n",
        "# Crear modelo y entrenar\n",
        "model = Pipeline([\n",
        "    ('poly', PolynomialFeatures(degree=2, include_bias=False)),\n",
        "    ('scaler', StandardScaler()),\n",
        "    ('logit', LogisticRegression(solver='lbfgs'))\n",
        "                ])\n",
        "\n",
        "\n",
        "model.fit(xtrain,ytrain)\n",
        "\n",
        "# Calcular Score\n",
        "print('Train: ', model.score(xtrain,ytrain))\n",
        "print('Test: ', model.score(xtest,ytest))"
      ]
    },
    {
      "cell_type": "markdown",
      "source": [
        "# Regresión Softmax"
      ],
      "metadata": {
        "id": "WILHJiYf10Ft"
      }
    },
    {
      "cell_type": "code",
      "execution_count": null,
      "metadata": {
        "id": "R0HfW5ZC0eEj"
      },
      "outputs": [],
      "source": [
        "from sklearn import datasets\n",
        "iris = datasets.load_iris()\n",
        "list(iris.keys())"
      ]
    },
    {
      "cell_type": "code",
      "execution_count": null,
      "metadata": {
        "id": "jm-brBwZ0eEj"
      },
      "outputs": [],
      "source": [
        "print(iris.DESCR)"
      ]
    },
    {
      "cell_type": "code",
      "execution_count": null,
      "metadata": {
        "id": "v7KzlWah0eEj"
      },
      "outputs": [],
      "source": [
        "x = iris[\"data\"][:, (2, 3)]  # petal length, petal width\n",
        "y = iris[\"target\"]\n",
        "\n",
        "plt.plot(x[y==2, 0], x[y==2, 1], \"g^\", label=\"Iris-Virginica\")\n",
        "plt.plot(x[y==1, 0], x[y==1, 1], \"bs\", label=\"Iris-Versicolor\")\n",
        "plt.plot(x[y==0, 0], x[y==0, 1], \"yo\", label=\"Iris-Setosa\")\n",
        "\n",
        "# Dividir Train/Test\n",
        "xtrain, xtest, ytrain, ytest = train_test_split(x,y)\n",
        "\n",
        "softmax_reg = LogisticRegression(multi_class=\"multinomial\", solver=\"lbfgs\")\n",
        "softmax_reg.fit(xtrain, ytrain)\n",
        "\n",
        "# Calcular Score\n",
        "print('Train: ', softmax_reg.score(xtrain,ytrain))\n",
        "print('Test: ', softmax_reg.score(xtest,ytest))"
      ]
    },
    {
      "cell_type": "code",
      "source": [
        "from sklearn.metrics import ConfusionMatrixDisplay, confusion_matrix\n",
        "\n",
        "ypred = softmax_reg.predict(xtest)\n",
        "cm = confusion_matrix(ytest, ypred)\n",
        "cm_display = ConfusionMatrixDisplay(cm, display_labels=['Setosa',\n",
        "                                                        'Versicolor',\n",
        "                                                        'Virginica']).plot()"
      ],
      "metadata": {
        "id": "0_8q25UZmDHf"
      },
      "execution_count": null,
      "outputs": []
    },
    {
      "cell_type": "code",
      "source": [
        "from sklearn.metrics import classification_report\n",
        "print('Classification Report: /n', classification_report(ytest, ypred))"
      ],
      "metadata": {
        "id": "Kf5VbLgWm7oS"
      },
      "execution_count": null,
      "outputs": []
    }
  ],
  "metadata": {
    "kernelspec": {
      "display_name": "Python 3",
      "language": "python",
      "name": "python3"
    },
    "language_info": {
      "codemirror_mode": {
        "name": "ipython",
        "version": 3
      },
      "file_extension": ".py",
      "mimetype": "text/x-python",
      "name": "python",
      "nbconvert_exporter": "python",
      "pygments_lexer": "ipython3",
      "version": "3.7.1"
    },
    "colab": {
      "provenance": [],
      "include_colab_link": true
    }
  },
  "nbformat": 4,
  "nbformat_minor": 0
}